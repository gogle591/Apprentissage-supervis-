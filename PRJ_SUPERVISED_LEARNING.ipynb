{
  "nbformat": 4,
  "nbformat_minor": 0,
  "metadata": {
    "colab": {
      "name": "PRJ_SUPERVISED_LEARNING.ipynb",
      "provenance": [],
      "collapsed_sections": [
        "-WZPH4SsnYXD",
        "eO65gP23np5X",
        "kQ6otbjrn22u",
        "-KgKAzdsmw6x",
        "tenYt8NEsXPS",
        "rA8T-GTmsfdc",
        "RdIrDf4xsmON",
        "p6DzHzD8x3GF",
        "TLO4uTAJKzD1",
        "0Vr7m788K6dy"
      ],
      "toc_visible": true
    },
    "kernelspec": {
      "display_name": "Python 3",
      "name": "python3"
    }
  },
  "cells": [
    {
      "cell_type": "markdown",
      "metadata": {
        "id": "WU48_2EBliQv"
      },
      "source": [
        "# **Projet apprentissage supervisé**"
      ]
    },
    {
      "cell_type": "markdown",
      "metadata": {
        "id": "NpWmmtWPdXMk"
      },
      "source": [
        "\n",
        "\n",
        "```\n",
        "# This is formatted as code\n",
        "```\n",
        "\n",
        "Réalisé par : Ahmed SAADI et MELLAL Hodaifa"
      ]
    },
    {
      "cell_type": "markdown",
      "metadata": {
        "id": "-WZPH4SsnYXD"
      },
      "source": [
        "## **Installtion de google drive**"
      ]
    },
    {
      "cell_type": "code",
      "metadata": {
        "id": "G6yWTc0nDgcv"
      },
      "source": [
        "!pip install -U -q PyDrive\n",
        "import os\n",
        "from pydrive.auth import GoogleAuth\n",
        "from pydrive.drive import GoogleDrive\n",
        "from google.colab import auth\n",
        "from oauth2client.client import GoogleCredentials\n",
        "\n",
        "# 1. Authenticate and create the PyDrive client.\n",
        "auth.authenticate_user()\n",
        "gauth = GoogleAuth()\n",
        "gauth.credentials = GoogleCredentials.get_application_default()\n",
        "drive = GoogleDrive(gauth)"
      ],
      "execution_count": null,
      "outputs": []
    },
    {
      "cell_type": "markdown",
      "metadata": {
        "id": "eO65gP23np5X"
      },
      "source": [
        "## **Importation des données**"
      ]
    },
    {
      "cell_type": "code",
      "metadata": {
        "id": "6DZx6dmKHG1a"
      },
      "source": [
        "#Importation des données relationnelles \n",
        "downloaded = drive.CreateFile({'id':\"1zJw01PtgyD7INL4sgYqD6P7Y5WkaVTaQ\"})   # The id of the file ratings file\n",
        "downloaded.GetContentFile('pubmed.mat') \n",
        "\n",
        "downloaded = drive.CreateFile({'id':\"1I8IT7yLaMRL0fiLicpMcG7pp12IGUJQ8\"})   # The id of the file ratings file\n",
        "downloaded.GetContentFile('cora.mat') \n",
        "\n",
        "downloaded = drive.CreateFile({'id':\"1Nj-y2bht--E_Q7qoJPkFeK-lo7KzkIgg\"})   # The id of the file ratings file\n",
        "downloaded.GetContentFile('citeseer.mat') \n",
        "\n",
        "#Importation des données bancaires\n",
        "downloaded = drive.CreateFile({'id':\"1-AJ-fmDmZ2p-9Cctr1YjrnnjMmb3Ybes\"})   # The id of the file ratings file\n",
        "downloaded.GetContentFile('VisaPremier.txt') \n",
        "\n",
        "downloaded = drive.CreateFile({'id':\"1RJ_y4Df4v-r4tUjYiq4sVfdwWwE1-fRK\"})   # The id of the file ratings file\n",
        "downloaded.GetContentFile('creditcard.csv') "
      ],
      "execution_count": null,
      "outputs": []
    },
    {
      "cell_type": "markdown",
      "metadata": {
        "id": "kQ6otbjrn22u"
      },
      "source": [
        "## **Importation de bibliothèque**"
      ]
    },
    {
      "cell_type": "code",
      "metadata": {
        "id": "K2KsE80An2Kw"
      },
      "source": [
        "import numpy as np\n",
        "\n",
        "import pandas as pd\n",
        "import matplotlib.pyplot as plt\n",
        "import seaborn as sns\n",
        "import warnings\n",
        "from matplotlib import pyplot\n",
        "from pandas import read_csv\n",
        "from pandas import set_option\n",
        "from pandas.plotting import scatter_matrix\n",
        "from sklearn.preprocessing import StandardScaler\n",
        "from sklearn.model_selection import train_test_split\n",
        "from sklearn.model_selection import KFold\n",
        "from sklearn.model_selection import cross_val_score\n",
        "from sklearn.model_selection import GridSearchCV\n",
        "from sklearn.metrics import classification_report\n",
        "from sklearn.metrics import confusion_matrix\n",
        "from sklearn.metrics import accuracy_score\n",
        "from sklearn.pipeline import Pipeline\n",
        "from sklearn.linear_model import LogisticRegression\n",
        "from sklearn.tree import DecisionTreeClassifier\n",
        "from sklearn.neighbors import KNeighborsClassifier\n",
        "from sklearn.discriminant_analysis import LinearDiscriminantAnalysis\n",
        "from sklearn.naive_bayes import GaussianNB\n",
        "from sklearn.svm import SVC\n",
        "from sklearn.ensemble import AdaBoostClassifier\n",
        "from sklearn.ensemble import GradientBoostingClassifier\n",
        "from sklearn.ensemble import RandomForestClassifier\n",
        "from sklearn.ensemble import ExtraTreesClassifier\n",
        "from sklearn.preprocessing import MinMaxScaler\n",
        "from sklearn.metrics import roc_curve, roc_auc_score\n",
        "from sklearn.metrics import accuracy_score, precision_score, recall_score, confusion_matrix\n",
        "from imblearn.under_sampling import RandomUnderSampler\n",
        "from imblearn.pipeline import Pipeline\n",
        "import collections\n",
        "from imblearn.over_sampling import SMOTE\n",
        "\n",
        "%matplotlib inline\n",
        "sns.set()\n",
        "warnings.simplefilter('ignore')"
      ],
      "execution_count": null,
      "outputs": []
    },
    {
      "cell_type": "markdown",
      "metadata": {
        "id": "-KgKAzdsmw6x"
      },
      "source": [
        "## **I- Détection de fraude**"
      ]
    },
    {
      "cell_type": "markdown",
      "metadata": {
        "id": "tenYt8NEsXPS"
      },
      "source": [
        "### **1. Analyse exploratoire**"
      ]
    },
    {
      "cell_type": "code",
      "metadata": {
        "colab": {
          "base_uri": "https://localhost:8080/",
          "height": 201
        },
        "id": "SelyzKG9Isvk",
        "outputId": "c7ef883a-1565-4ad3-f593-a47b99ee6789"
      },
      "source": [
        "data = pd.read_csv('creditcard.csv')\n",
        "df = data.copy() # To keep the data as backup\n",
        "df.head()\n"
      ],
      "execution_count": null,
      "outputs": [
        {
          "output_type": "error",
          "ename": "NameError",
          "evalue": "ignored",
          "traceback": [
            "\u001b[0;31m---------------------------------------------------------------------------\u001b[0m",
            "\u001b[0;31mNameError\u001b[0m                                 Traceback (most recent call last)",
            "\u001b[0;32m<ipython-input-1-2207850a857e>\u001b[0m in \u001b[0;36m<module>\u001b[0;34m()\u001b[0m\n\u001b[0;32m----> 1\u001b[0;31m \u001b[0mdata\u001b[0m \u001b[0;34m=\u001b[0m \u001b[0mpd\u001b[0m\u001b[0;34m.\u001b[0m\u001b[0mread_csv\u001b[0m\u001b[0;34m(\u001b[0m\u001b[0;34m'creditcard.csv'\u001b[0m\u001b[0;34m)\u001b[0m\u001b[0;34m\u001b[0m\u001b[0;34m\u001b[0m\u001b[0m\n\u001b[0m\u001b[1;32m      2\u001b[0m \u001b[0mdf\u001b[0m \u001b[0;34m=\u001b[0m \u001b[0mdata\u001b[0m\u001b[0;34m.\u001b[0m\u001b[0mcopy\u001b[0m\u001b[0;34m(\u001b[0m\u001b[0;34m)\u001b[0m \u001b[0;31m# To keep the data as backup\u001b[0m\u001b[0;34m\u001b[0m\u001b[0;34m\u001b[0m\u001b[0m\n\u001b[1;32m      3\u001b[0m \u001b[0mdf\u001b[0m\u001b[0;34m.\u001b[0m\u001b[0mhead\u001b[0m\u001b[0;34m(\u001b[0m\u001b[0;34m)\u001b[0m\u001b[0;34m\u001b[0m\u001b[0;34m\u001b[0m\u001b[0m\n",
            "\u001b[0;31mNameError\u001b[0m: name 'pd' is not defined"
          ]
        }
      ]
    },
    {
      "cell_type": "code",
      "metadata": {
        "colab": {
          "base_uri": "https://localhost:8080/",
          "height": 166
        },
        "id": "mNawTJyilZqi",
        "outputId": "ec0c467e-c512-4ad4-fd3a-45d6f5a5342d"
      },
      "source": [
        "df.shape"
      ],
      "execution_count": null,
      "outputs": [
        {
          "output_type": "error",
          "ename": "NameError",
          "evalue": "ignored",
          "traceback": [
            "\u001b[0;31m---------------------------------------------------------------------------\u001b[0m",
            "\u001b[0;31mNameError\u001b[0m                                 Traceback (most recent call last)",
            "\u001b[0;32m<ipython-input-2-633337079cd0>\u001b[0m in \u001b[0;36m<module>\u001b[0;34m()\u001b[0m\n\u001b[0;32m----> 1\u001b[0;31m \u001b[0mdf\u001b[0m\u001b[0;34m.\u001b[0m\u001b[0mshape\u001b[0m\u001b[0;34m\u001b[0m\u001b[0;34m\u001b[0m\u001b[0m\n\u001b[0m",
            "\u001b[0;31mNameError\u001b[0m: name 'df' is not defined"
          ]
        }
      ]
    },
    {
      "cell_type": "code",
      "metadata": {
        "id": "4GUEfQ4Qli3w"
      },
      "source": [
        "df.isnull().sum()"
      ],
      "execution_count": null,
      "outputs": []
    },
    {
      "cell_type": "code",
      "metadata": {
        "id": "bzv8uKzBlql4"
      },
      "source": [
        "df.info()"
      ],
      "execution_count": null,
      "outputs": []
    },
    {
      "cell_type": "code",
      "metadata": {
        "id": "iSwusWxNmKSu"
      },
      "source": [
        "df.describe()"
      ],
      "execution_count": null,
      "outputs": []
    },
    {
      "cell_type": "markdown",
      "metadata": {
        "id": "ok2o7iCTmXPz"
      },
      "source": [
        "**Visualiser la fréquence des fraudes**"
      ]
    },
    {
      "cell_type": "code",
      "metadata": {
        "id": "XrOCQdwLmWw7"
      },
      "source": [
        "df.Class.value_counts()\n"
      ],
      "execution_count": null,
      "outputs": []
    },
    {
      "cell_type": "code",
      "metadata": {
        "id": "iX-k7Z2hmdd-"
      },
      "source": [
        "sns.countplot(x=df.Class, hue=df.Class)"
      ],
      "execution_count": null,
      "outputs": []
    },
    {
      "cell_type": "markdown",
      "metadata": {
        "id": "YhBbtLf0mpia"
      },
      "source": [
        "**Visualiser la distribution de Amount**"
      ]
    },
    {
      "cell_type": "code",
      "metadata": {
        "id": "gG0S0CFgmwAc"
      },
      "source": [
        "plt.figure(figsize=(10, 5))\n",
        "sns.distplot(df.Amount)"
      ],
      "execution_count": null,
      "outputs": []
    },
    {
      "cell_type": "code",
      "metadata": {
        "id": "uDeGftXkphJy"
      },
      "source": [
        "array = df.values\n",
        "X = array[:,0:29].astype(float)\n",
        "Y = array[:,30]\n",
        "\n",
        "# define pipeline\n",
        "over = SMOTE(sampling_strategy=0.1)\n",
        "under = RandomUnderSampler(sampling_strategy=0.5)\n",
        "steps = [('o', over), ('u', under)]\n",
        "pipeline = Pipeline(steps=steps)\n",
        "# transform the dataset\n",
        "X, Y = pipeline.fit_resample(X, Y)\n",
        "\n",
        "counter = collections.Counter(Y)\n",
        "counter"
      ],
      "execution_count": null,
      "outputs": []
    },
    {
      "cell_type": "code",
      "metadata": {
        "id": "xE8e3lxNrqqu"
      },
      "source": [
        "sns.countplot(x=Y, hue=Y)"
      ],
      "execution_count": null,
      "outputs": []
    },
    {
      "cell_type": "code",
      "metadata": {
        "id": "C0qpy0nSsK46"
      },
      "source": [
        "# Split-out validation dataset\n",
        "validation_size = 0.20\n",
        "seed = 7\n",
        "X_train, X_validation, Y_train, Y_validation = train_test_split(X, Y, test_size=validation_size, random_state=seed)"
      ],
      "execution_count": null,
      "outputs": []
    },
    {
      "cell_type": "markdown",
      "metadata": {
        "id": "rA8T-GTmsfdc"
      },
      "source": [
        "### **2. Logistic Regression**"
      ]
    },
    {
      "cell_type": "code",
      "metadata": {
        "id": "tmvI6ukgsV9i"
      },
      "source": [
        "lr_model = LogisticRegression()\n",
        "\n",
        "# Training the algorithm\n",
        "lr_model.fit(X_train, Y_train)"
      ],
      "execution_count": null,
      "outputs": []
    },
    {
      "cell_type": "code",
      "metadata": {
        "id": "jy0y4oBhswlg"
      },
      "source": [
        "# Predictions on training and testing data\n",
        "lr_pred_train = lr_model.predict(X_train)\n",
        "lr_pred_test = lr_model.predict(X_validation)"
      ],
      "execution_count": null,
      "outputs": []
    },
    {
      "cell_type": "markdown",
      "metadata": {
        "id": "EMy9ePPItqDk"
      },
      "source": [
        "Avant d'aller plus loin dans les métriques, décidons d'abord que l'erreur de type I ou de type II est plus importante à considérer.\n",
        "\n",
        "Erreur de type I ou faux positifs: les faux positifs sont ceux qui ne sont en fait pas de la fraude, mais la prédiction dit qu'ils sont de la fraude.\n",
        "Erreur de type II ou faux négatifs: les faux négatifs sont ceux qui sont en fait de la fraude, mais le système a dit qu'ils ne le sont pas.\n",
        "\n",
        "Eh bien, nous pouvons dire que l'erreur de type II est plus importante parce que nous ne voulons pas que le système ait une carte de crédit frauduleuse, car cela peut être plus dangereux.\n",
        "\n",
        "Donc, pour l'erreur de type II, nous pouvons dire que le recall est la métrique importante."
      ]
    },
    {
      "cell_type": "code",
      "metadata": {
        "id": "40WDsKkZt3-X"
      },
      "source": [
        "# Importing the required metrics\n",
        "tn, fp, fn, tp = confusion_matrix(Y_validation, lr_pred_test).ravel()\n",
        "conf_matrix = pd.DataFrame(\n",
        "    {\n",
        "        'Predicted Fraud': [tp, fp],\n",
        "        'Predicted Not Fraud': [fn, tn]\n",
        "    }, index=['Fraud', 'Not Fraud'])\n",
        "conf_matrix"
      ],
      "execution_count": null,
      "outputs": []
    },
    {
      "cell_type": "code",
      "metadata": {
        "id": "4Uv3lOA0uHdY"
      },
      "source": [
        "sns.heatmap(conf_matrix, annot=True)"
      ],
      "execution_count": null,
      "outputs": []
    },
    {
      "cell_type": "code",
      "metadata": {
        "id": "G2UAhre9uujZ"
      },
      "source": [
        "lr_accuracy = accuracy_score(Y_validation, lr_pred_test)\n",
        "lr_accuracy"
      ],
      "execution_count": null,
      "outputs": []
    },
    {
      "cell_type": "code",
      "metadata": {
        "id": "5ZXol8Z7u2Pf"
      },
      "source": [
        "lr_precision = precision_score(Y_validation, lr_pred_test)\n",
        "lr_precision"
      ],
      "execution_count": null,
      "outputs": []
    },
    {
      "cell_type": "code",
      "metadata": {
        "id": "dh6zLi8nu6c7"
      },
      "source": [
        "lr_recall = recall_score(Y_validation, lr_pred_test)\n",
        "lr_recall"
      ],
      "execution_count": null,
      "outputs": []
    },
    {
      "cell_type": "markdown",
      "metadata": {
        "id": "d5E6O0_bvU6K"
      },
      "source": [
        "Recall est assez elevé dans le cas de régression logistique. \n",
        "\n",
        "Cependant, vérifions Recall de l'ensemble de données d'entraînement (train datset) pour avoir une idée sur tout surajustement (overfitting) que nous pourrions avoir."
      ]
    },
    {
      "cell_type": "code",
      "metadata": {
        "id": "A1STISNivJ4l"
      },
      "source": [
        "lr_recall_train = recall_score(Y_train, lr_pred_train)\n",
        "lr_recall_train"
      ],
      "execution_count": null,
      "outputs": []
    },
    {
      "cell_type": "markdown",
      "metadata": {
        "id": "dViE53XOv0CE"
      },
      "source": [
        "nous pouvons voir que le delta est très petit ( lr_recall_train  -  lr_recall ). Donc, on peut dire que le modèle n'est pas surajusté"
      ]
    },
    {
      "cell_type": "code",
      "metadata": {
        "id": "H1nAsDF36yFF"
      },
      "source": [
        "lr_pred_test_prob = lr_model.predict_proba(X_validation)[:, 1]"
      ],
      "execution_count": null,
      "outputs": []
    },
    {
      "cell_type": "code",
      "metadata": {
        "id": "uF3P-aiB13K-"
      },
      "source": [
        "# Now, to draw the ROC Curve, we need to have True Positive Rate and False Positive Rate.\n",
        "fpr, tpr, threshold = roc_curve(Y_validation, lr_pred_test_prob)\n",
        "\n",
        "# Also, let's get the auc score.\n",
        "\n",
        "lr_auc = roc_auc_score(Y_validation, lr_pred_test_prob)\n",
        "lr_auc"
      ],
      "execution_count": null,
      "outputs": []
    },
    {
      "cell_type": "code",
      "metadata": {
        "id": "ucFZE8Z32H9F"
      },
      "source": [
        "#Now, let's define a function to plot the roc curve.\n",
        "def plot_roc_curve(fpr, tpr, label=None):\n",
        "    plt.figure(figsize=(8, 6))\n",
        "    plt.title('ROC Curve', fontsize=15)\n",
        "    plt.plot([0, 1], [0, 1], 'k--')\n",
        "    plt.plot(fpr, tpr, linewidth=2, label=label)\n",
        "    plt.xticks(np.arange(0, 1, 0.05), rotation=90)\n",
        "    plt.xlabel('False Positive Rates', fontsize=15)\n",
        "    plt.ylabel('True Positive Rates', fontsize=15)\n",
        "    plt.legend(loc='best')\n",
        "    \n",
        "    plt.show()"
      ],
      "execution_count": null,
      "outputs": []
    },
    {
      "cell_type": "code",
      "metadata": {
        "id": "vDhb_8yw2M_z"
      },
      "source": [
        "plot_roc_curve(fpr=fpr, tpr=tpr, label=\"AUC = %.3f\" % lr_auc)"
      ],
      "execution_count": null,
      "outputs": []
    },
    {
      "cell_type": "markdown",
      "metadata": {
        "id": "qMtcbhaN5z_8"
      },
      "source": [
        "### **3. Evaluation des différents algorithmes**"
      ]
    },
    {
      "cell_type": "code",
      "metadata": {
        "id": "NaiiilaET_bA"
      },
      "source": [
        "# Evaluate Algorithms\n",
        "\n",
        "# Test options and evaluation metric\n",
        "num_folds = 10\n",
        "seed = 7\n",
        "scoring = 'accuracy'\n",
        "\n",
        "validation_size = 0.20\n",
        "seed = 7\n",
        "X_train, X_validation, Y_train, Y_validation = train_test_split(X, Y, test_size=validation_size, random_state=seed)\n",
        "\n",
        "\n",
        "# Spot Check Algorithms\n",
        "models = []\n",
        "models.append(('LR', LogisticRegression()))\n",
        "models.append(('LDA', LinearDiscriminantAnalysis()))\n",
        "models.append(('KNN', KNeighborsClassifier()))\n",
        "models.append(('CART', DecisionTreeClassifier()))\n",
        "models.append(('NB', GaussianNB()))\n",
        "models.append(('GBC', GradientBoostingClassifier()))\n",
        "models.append(('ABC',AdaBoostClassifier()))\n",
        "models.append(('ETC',ExtraTreesClassifier()))\n",
        "models.append(('RFC',RandomForestClassifier()))\n",
        "results = []\n",
        "names = []\n",
        "for name, model in models:\n",
        "\tkfold = KFold(n_splits=num_folds, random_state=seed)\n",
        "\tcv_results = cross_val_score(model, X_train, Y_train, cv=kfold, scoring=scoring)\n",
        "\tresults.append(cv_results)\n",
        "\tnames.append(name)\n",
        "\tmsg = \"%s: %f (%f)\" % (name, cv_results.mean(), cv_results.std())\n",
        "\tprint(msg)"
      ],
      "execution_count": null,
      "outputs": []
    },
    {
      "cell_type": "code",
      "metadata": {
        "id": "t5d_aJDrV88z"
      },
      "source": [
        "# Compare Algorithms\n",
        "fig = pyplot.figure()\n",
        "fig.suptitle('Algorithm Comparison')\n",
        "ax = fig.add_subplot(111)\n",
        "pyplot.boxplot(results)\n",
        "ax.set_xticklabels(names)\n",
        "pyplot.show()"
      ],
      "execution_count": null,
      "outputs": []
    },
    {
      "cell_type": "code",
      "metadata": {
        "id": "lAPWS9hyWOyV"
      },
      "source": [
        "# Standardize the dataset\n",
        "pipelines = []\n",
        "pipelines.append(('ScaledLR', Pipeline([('Scaler', StandardScaler()),('LR', LogisticRegression())])))\n",
        "pipelines.append(('ScaledLDA', Pipeline([('Scaler', StandardScaler()),('LDA', LinearDiscriminantAnalysis())])))\n",
        "pipelines.append(('ScaledKNN', Pipeline([('Scaler', StandardScaler()),('KNN', KNeighborsClassifier())])))\n",
        "pipelines.append(('ScaledCART', Pipeline([('Scaler', StandardScaler()),('CART', DecisionTreeClassifier())])))\n",
        "pipelines.append(('ScaledNB', Pipeline([('Scaler', StandardScaler()),('NB', GaussianNB())])))\n",
        "pipelines.append(('ScaledGBC', Pipeline([('Scaler', StandardScaler()),('GBC', GradientBoostingClassifier())]))) \n",
        "pipelines.append(('ScaledABC',Pipeline([('Scaler', StandardScaler()),('GBC', AdaBoostClassifier())])))    \n",
        "pipelines.append(('ScaledETC',Pipeline([('Scaler', StandardScaler()),('ETC',ExtraTreesClassifier() )])))    \n",
        "pipelines.append(('ScaledRFC',Pipeline([('Scaler', StandardScaler()),('RFC',  RandomForestClassifier())])))   \n",
        "\n",
        "results = []\n",
        "names = []\n",
        "for name, model in pipelines:\n",
        "\tkfold = KFold(n_splits=num_folds, random_state=seed)\n",
        "\tcv_results = cross_val_score(model, X_train, Y_train, cv=kfold, scoring=scoring)\n",
        "\tresults.append(cv_results)\n",
        "\tnames.append(name)\n",
        "\tmsg = \"%s: %f (%f)\" % (name, cv_results.mean(), cv_results.std())\n",
        "\tprint(msg)\n",
        "\n"
      ],
      "execution_count": null,
      "outputs": []
    },
    {
      "cell_type": "code",
      "metadata": {
        "id": "I31N2EuYWfx_"
      },
      "source": [
        "# Compare Algorithms\n",
        "fig = pyplot.figure()\n",
        "fig.suptitle('Scaled Algorithm Comparison')\n",
        "ax = fig.add_subplot(111)\n",
        "pyplot.boxplot(results)\n",
        "ax.set_xticklabels(names)\n",
        "pyplot.show()\n"
      ],
      "execution_count": null,
      "outputs": []
    },
    {
      "cell_type": "markdown",
      "metadata": {
        "id": "RdIrDf4xsmON"
      },
      "source": [
        "## **II- Carte Visa**"
      ]
    },
    {
      "cell_type": "markdown",
      "metadata": {
        "id": "qt8c2J8hsvJR"
      },
      "source": [
        "### **1. Analyse Exploratoire**"
      ]
    },
    {
      "cell_type": "code",
      "metadata": {
        "colab": {
          "base_uri": "https://localhost:8080/",
          "height": 218
        },
        "id": "hNa3Xbgkszti",
        "outputId": "6869fc72-fdf9-4d21-c7c5-68ad92bc2dd5"
      },
      "source": [
        "dataset = pd.read_csv('VisaPremier.txt' , delimiter = \"\\t\")\n",
        "dataset.head()"
      ],
      "execution_count": null,
      "outputs": [
        {
          "output_type": "execute_result",
          "data": {
            "text/html": [
              "<div>\n",
              "<style scoped>\n",
              "    .dataframe tbody tr th:only-of-type {\n",
              "        vertical-align: middle;\n",
              "    }\n",
              "\n",
              "    .dataframe tbody tr th {\n",
              "        vertical-align: top;\n",
              "    }\n",
              "\n",
              "    .dataframe thead th {\n",
              "        text-align: right;\n",
              "    }\n",
              "</style>\n",
              "<table border=\"1\" class=\"dataframe\">\n",
              "  <thead>\n",
              "    <tr style=\"text-align: right;\">\n",
              "      <th></th>\n",
              "      <th>matricul</th>\n",
              "      <th>departem</th>\n",
              "      <th>ptvente</th>\n",
              "      <th>sexe</th>\n",
              "      <th>age</th>\n",
              "      <th>sitfamil</th>\n",
              "      <th>anciente</th>\n",
              "      <th>csp</th>\n",
              "      <th>codeqlt</th>\n",
              "      <th>nbimpaye</th>\n",
              "      <th>mtrejet</th>\n",
              "      <th>nbopguic</th>\n",
              "      <th>moycred3</th>\n",
              "      <th>aveparmo</th>\n",
              "      <th>endette</th>\n",
              "      <th>engagemt</th>\n",
              "      <th>engagemc</th>\n",
              "      <th>engagemm</th>\n",
              "      <th>nbcptvue</th>\n",
              "      <th>moysold3</th>\n",
              "      <th>moycredi</th>\n",
              "      <th>agemvt</th>\n",
              "      <th>nbop</th>\n",
              "      <th>mtfactur</th>\n",
              "      <th>engageml</th>\n",
              "      <th>nbvie</th>\n",
              "      <th>mtvie</th>\n",
              "      <th>nbeparmo</th>\n",
              "      <th>mteparmo</th>\n",
              "      <th>nbeparlo</th>\n",
              "      <th>mteparlo</th>\n",
              "      <th>nblivret</th>\n",
              "      <th>mtlivret</th>\n",
              "      <th>nbeparlt</th>\n",
              "      <th>mteparlt</th>\n",
              "      <th>nbeparte</th>\n",
              "      <th>mteparte</th>\n",
              "      <th>nbbon</th>\n",
              "      <th>mtbon</th>\n",
              "      <th>nbpaiecb</th>\n",
              "      <th>nbcb</th>\n",
              "      <th>nbcbptar</th>\n",
              "      <th>avtscpte</th>\n",
              "      <th>aveparfi</th>\n",
              "      <th>cartevp</th>\n",
              "      <th>sexer</th>\n",
              "      <th>cartevpr</th>\n",
              "      <th>nbjdebit</th>\n",
              "    </tr>\n",
              "  </thead>\n",
              "  <tbody>\n",
              "    <tr>\n",
              "      <th>0</th>\n",
              "      <td>148009</td>\n",
              "      <td>31</td>\n",
              "      <td>1</td>\n",
              "      <td>Shom</td>\n",
              "      <td>51</td>\n",
              "      <td>Fmar</td>\n",
              "      <td>238</td>\n",
              "      <td>Pcad</td>\n",
              "      <td>A</td>\n",
              "      <td>0</td>\n",
              "      <td>0</td>\n",
              "      <td>0</td>\n",
              "      <td>115</td>\n",
              "      <td>701939</td>\n",
              "      <td>4</td>\n",
              "      <td>119216</td>\n",
              "      <td>0</td>\n",
              "      <td>119216</td>\n",
              "      <td>2</td>\n",
              "      <td>35938</td>\n",
              "      <td>114</td>\n",
              "      <td>11</td>\n",
              "      <td>49</td>\n",
              "      <td>206016</td>\n",
              "      <td>0</td>\n",
              "      <td>1</td>\n",
              "      <td>152530</td>\n",
              "      <td>4</td>\n",
              "      <td>701939</td>\n",
              "      <td>2</td>\n",
              "      <td>520145</td>\n",
              "      <td>2</td>\n",
              "      <td>181794</td>\n",
              "      <td>0</td>\n",
              "      <td>0</td>\n",
              "      <td>0</td>\n",
              "      <td>0</td>\n",
              "      <td>0</td>\n",
              "      <td>0</td>\n",
              "      <td>14</td>\n",
              "      <td>2</td>\n",
              "      <td>0</td>\n",
              "      <td>1303700</td>\n",
              "      <td>556967</td>\n",
              "      <td>Coui</td>\n",
              "      <td>0</td>\n",
              "      <td>1</td>\n",
              "      <td>1</td>\n",
              "    </tr>\n",
              "    <tr>\n",
              "      <th>1</th>\n",
              "      <td>442153</td>\n",
              "      <td>82</td>\n",
              "      <td>6</td>\n",
              "      <td>Shom</td>\n",
              "      <td>52</td>\n",
              "      <td>Fmar</td>\n",
              "      <td>270</td>\n",
              "      <td>Pcad</td>\n",
              "      <td>A</td>\n",
              "      <td>0</td>\n",
              "      <td>0</td>\n",
              "      <td>4</td>\n",
              "      <td>19579</td>\n",
              "      <td>8920</td>\n",
              "      <td>0</td>\n",
              "      <td>0</td>\n",
              "      <td>0</td>\n",
              "      <td>0</td>\n",
              "      <td>1</td>\n",
              "      <td>132468</td>\n",
              "      <td>4079</td>\n",
              "      <td>11</td>\n",
              "      <td>50</td>\n",
              "      <td>98500</td>\n",
              "      <td>0</td>\n",
              "      <td>0</td>\n",
              "      <td>0</td>\n",
              "      <td>3</td>\n",
              "      <td>19508920</td>\n",
              "      <td>2</td>\n",
              "      <td>8920</td>\n",
              "      <td>0</td>\n",
              "      <td>0</td>\n",
              "      <td>0</td>\n",
              "      <td>0</td>\n",
              "      <td>0</td>\n",
              "      <td>0</td>\n",
              "      <td>1</td>\n",
              "      <td>19500000</td>\n",
              "      <td>5</td>\n",
              "      <td>2</td>\n",
              "      <td>0</td>\n",
              "      <td>19856243</td>\n",
              "      <td>133896</td>\n",
              "      <td>Coui</td>\n",
              "      <td>0</td>\n",
              "      <td>1</td>\n",
              "      <td>0</td>\n",
              "    </tr>\n",
              "    <tr>\n",
              "      <th>2</th>\n",
              "      <td>552427</td>\n",
              "      <td>97</td>\n",
              "      <td>1</td>\n",
              "      <td>Shom</td>\n",
              "      <td>58</td>\n",
              "      <td>Fmar</td>\n",
              "      <td>139</td>\n",
              "      <td>Pcad</td>\n",
              "      <td>C</td>\n",
              "      <td>0</td>\n",
              "      <td>0</td>\n",
              "      <td>0</td>\n",
              "      <td>40</td>\n",
              "      <td>3402</td>\n",
              "      <td>0</td>\n",
              "      <td>0</td>\n",
              "      <td>0</td>\n",
              "      <td>0</td>\n",
              "      <td>1</td>\n",
              "      <td>1336</td>\n",
              "      <td>40</td>\n",
              "      <td>14</td>\n",
              "      <td>2</td>\n",
              "      <td>3394</td>\n",
              "      <td>0</td>\n",
              "      <td>0</td>\n",
              "      <td>0</td>\n",
              "      <td>1</td>\n",
              "      <td>3402</td>\n",
              "      <td>0</td>\n",
              "      <td>0</td>\n",
              "      <td>1</td>\n",
              "      <td>3402</td>\n",
              "      <td>0</td>\n",
              "      <td>0</td>\n",
              "      <td>0</td>\n",
              "      <td>0</td>\n",
              "      <td>0</td>\n",
              "      <td>0</td>\n",
              "      <td>0</td>\n",
              "      <td>1</td>\n",
              "      <td>0</td>\n",
              "      <td>122745</td>\n",
              "      <td>0</td>\n",
              "      <td>Coui</td>\n",
              "      <td>0</td>\n",
              "      <td>1</td>\n",
              "      <td>0</td>\n",
              "    </tr>\n",
              "    <tr>\n",
              "      <th>3</th>\n",
              "      <td>556005</td>\n",
              "      <td>40</td>\n",
              "      <td>1</td>\n",
              "      <td>Shom</td>\n",
              "      <td>27</td>\n",
              "      <td>Fcel</td>\n",
              "      <td>99</td>\n",
              "      <td>Psan</td>\n",
              "      <td>B</td>\n",
              "      <td>0</td>\n",
              "      <td>0</td>\n",
              "      <td>0</td>\n",
              "      <td>17</td>\n",
              "      <td>76321</td>\n",
              "      <td>0</td>\n",
              "      <td>0</td>\n",
              "      <td>0</td>\n",
              "      <td>0</td>\n",
              "      <td>1</td>\n",
              "      <td>12221</td>\n",
              "      <td>17</td>\n",
              "      <td>11</td>\n",
              "      <td>23</td>\n",
              "      <td>0</td>\n",
              "      <td>0</td>\n",
              "      <td>0</td>\n",
              "      <td>0</td>\n",
              "      <td>3</td>\n",
              "      <td>76321</td>\n",
              "      <td>1</td>\n",
              "      <td>46312</td>\n",
              "      <td>2</td>\n",
              "      <td>30009</td>\n",
              "      <td>0</td>\n",
              "      <td>0</td>\n",
              "      <td>0</td>\n",
              "      <td>0</td>\n",
              "      <td>0</td>\n",
              "      <td>0</td>\n",
              "      <td>14</td>\n",
              "      <td>2</td>\n",
              "      <td>0</td>\n",
              "      <td>83224</td>\n",
              "      <td>0</td>\n",
              "      <td>Coui</td>\n",
              "      <td>0</td>\n",
              "      <td>1</td>\n",
              "      <td>0</td>\n",
              "    </tr>\n",
              "    <tr>\n",
              "      <th>4</th>\n",
              "      <td>556686</td>\n",
              "      <td>65</td>\n",
              "      <td>1</td>\n",
              "      <td>Shom</td>\n",
              "      <td>49</td>\n",
              "      <td>Fsep</td>\n",
              "      <td>89</td>\n",
              "      <td>Pemp</td>\n",
              "      <td>A</td>\n",
              "      <td>0</td>\n",
              "      <td>0</td>\n",
              "      <td>0</td>\n",
              "      <td>374</td>\n",
              "      <td>473350</td>\n",
              "      <td>0</td>\n",
              "      <td>209062</td>\n",
              "      <td>37859</td>\n",
              "      <td>171203</td>\n",
              "      <td>1</td>\n",
              "      <td>21187</td>\n",
              "      <td>208</td>\n",
              "      <td>11</td>\n",
              "      <td>49</td>\n",
              "      <td>0</td>\n",
              "      <td>0</td>\n",
              "      <td>1</td>\n",
              "      <td>21423</td>\n",
              "      <td>5</td>\n",
              "      <td>473350</td>\n",
              "      <td>3</td>\n",
              "      <td>399999</td>\n",
              "      <td>2</td>\n",
              "      <td>73351</td>\n",
              "      <td>0</td>\n",
              "      <td>0</td>\n",
              "      <td>0</td>\n",
              "      <td>0</td>\n",
              "      <td>0</td>\n",
              "      <td>0</td>\n",
              "      <td>11</td>\n",
              "      <td>3</td>\n",
              "      <td>1</td>\n",
              "      <td>494773</td>\n",
              "      <td>21423</td>\n",
              "      <td>Coui</td>\n",
              "      <td>0</td>\n",
              "      <td>1</td>\n",
              "      <td>15</td>\n",
              "    </tr>\n",
              "  </tbody>\n",
              "</table>\n",
              "</div>"
            ],
            "text/plain": [
              "   matricul departem  ptvente  sexe  ...  cartevp sexer  cartevpr nbjdebit\n",
              "0    148009       31        1  Shom  ...     Coui     0         1        1\n",
              "1    442153       82        6  Shom  ...     Coui     0         1        0\n",
              "2    552427       97        1  Shom  ...     Coui     0         1        0\n",
              "3    556005       40        1  Shom  ...     Coui     0         1        0\n",
              "4    556686       65        1  Shom  ...     Coui     0         1       15\n",
              "\n",
              "[5 rows x 48 columns]"
            ]
          },
          "metadata": {
            "tags": []
          },
          "execution_count": 38
        }
      ]
    },
    {
      "cell_type": "code",
      "metadata": {
        "colab": {
          "base_uri": "https://localhost:8080/"
        },
        "id": "-UpeBm1Cw5_H",
        "outputId": "72771021-7ddc-4e08-cf9b-2f5f12012483"
      },
      "source": [
        "dataset.info()"
      ],
      "execution_count": null,
      "outputs": [
        {
          "output_type": "stream",
          "text": [
            "<class 'pandas.core.frame.DataFrame'>\n",
            "RangeIndex: 1073 entries, 0 to 1072\n",
            "Data columns (total 48 columns):\n",
            " #   Column    Non-Null Count  Dtype \n",
            "---  ------    --------------  ----- \n",
            " 0   matricul  1073 non-null   int64 \n",
            " 1   departem  1073 non-null   object\n",
            " 2   ptvente   1073 non-null   int64 \n",
            " 3   sexe      1073 non-null   object\n",
            " 4   age       1073 non-null   int64 \n",
            " 5   sitfamil  1073 non-null   object\n",
            " 6   anciente  1073 non-null   int64 \n",
            " 7   csp       1073 non-null   object\n",
            " 8   codeqlt   1073 non-null   object\n",
            " 9   nbimpaye  1073 non-null   int64 \n",
            " 10  mtrejet   1073 non-null   int64 \n",
            " 11  nbopguic  1073 non-null   int64 \n",
            " 12  moycred3  1073 non-null   int64 \n",
            " 13  aveparmo  1073 non-null   int64 \n",
            " 14  endette   1073 non-null   int64 \n",
            " 15  engagemt  1073 non-null   int64 \n",
            " 16  engagemc  1073 non-null   int64 \n",
            " 17  engagemm  1073 non-null   int64 \n",
            " 18  nbcptvue  1073 non-null   int64 \n",
            " 19  moysold3  1073 non-null   int64 \n",
            " 20  moycredi  1073 non-null   int64 \n",
            " 21  agemvt    1073 non-null   object\n",
            " 22  nbop      1073 non-null   int64 \n",
            " 23  mtfactur  1073 non-null   int64 \n",
            " 24  engageml  1073 non-null   int64 \n",
            " 25  nbvie     1073 non-null   int64 \n",
            " 26  mtvie     1073 non-null   int64 \n",
            " 27  nbeparmo  1073 non-null   int64 \n",
            " 28  mteparmo  1073 non-null   int64 \n",
            " 29  nbeparlo  1073 non-null   int64 \n",
            " 30  mteparlo  1073 non-null   int64 \n",
            " 31  nblivret  1073 non-null   int64 \n",
            " 32  mtlivret  1073 non-null   int64 \n",
            " 33  nbeparlt  1073 non-null   int64 \n",
            " 34  mteparlt  1073 non-null   int64 \n",
            " 35  nbeparte  1073 non-null   int64 \n",
            " 36  mteparte  1073 non-null   int64 \n",
            " 37  nbbon     1073 non-null   int64 \n",
            " 38  mtbon     1073 non-null   int64 \n",
            " 39  nbpaiecb  1073 non-null   object\n",
            " 40  nbcb      1073 non-null   int64 \n",
            " 41  nbcbptar  1073 non-null   int64 \n",
            " 42  avtscpte  1073 non-null   int64 \n",
            " 43  aveparfi  1073 non-null   int64 \n",
            " 44  cartevp   1073 non-null   object\n",
            " 45  sexer     1073 non-null   int64 \n",
            " 46  cartevpr  1073 non-null   int64 \n",
            " 47  nbjdebit  1073 non-null   int64 \n",
            "dtypes: int64(40), object(8)\n",
            "memory usage: 402.5+ KB\n"
          ],
          "name": "stdout"
        }
      ]
    },
    {
      "cell_type": "markdown",
      "metadata": {
        "id": "fb9yOWtHxw6U"
      },
      "source": [
        "#### **Nettoyage des données**"
      ]
    },
    {
      "cell_type": "markdown",
      "metadata": {
        "id": "RAQ4D4oJyd7E"
      },
      "source": [
        " - suppression des variables dupliquées cartevp & sexe.\n",
        " - suppression des lignes contenant des champs non renseignés.\n",
        " - codage des variables qualitatives sitfamil, csp et codeqlt."
      ]
    },
    {
      "cell_type": "code",
      "metadata": {
        "id": "0pAUrleixw6V"
      },
      "source": [
        "# Nettoyage des données  \n",
        "\n",
        "#sitfamil :\n",
        "ind = np.where(dataset['sitfamil'] == \"F.\")\n",
        "for i in ind:\n",
        "    inde= list(i)\n",
        "\n",
        "dataset['sitfamil'] = [1 if a==\"Fmar\" else 2 if a==\"Fcel\" else 3 if a==\"Fdiv\" else 4 if a==\"Fuli\" else 5 if a==\"Fsep\" else 6 if a==\"Fveu\" else 'F.' for a in dataset.sitfamil]\n",
        "\n",
        "#Departem :\n",
        "ind = np.where(dataset['departem'] == \".\")\n",
        "for i in ind: \n",
        "    tmp= list(i) \n",
        "for i in tmp: \n",
        "    if i not in inde:\n",
        "        inde.append(i)\n",
        "\n",
        "#csp\n",
        "dataset['csp'] = [1 if a==\"Pcad\" else 2 if a==\"Pemp\" else 3 if a==\"Psan\" else 4 if a==\"Pouv\" else 5 if a==\"Part\" else 6 if a==\"Pret\" else 7 if a==\"Pinc\" else 8 for a in dataset.csp]\n",
        "\n",
        "#codeqlt\n",
        "ind = np.where(dataset['codeqlt'] == '.')\n",
        "for i in ind: \n",
        "    tmp= list(i) \n",
        "for i in tmp: \n",
        "    if i not in inde:\n",
        "        inde.append(i)\n",
        "\n",
        "dataset['codeqlt'] = [1 if a==\"A\" else 2 if a==\"B\" else 3 if a==\"C\" else 4 if a==\"D\" else 5 if a==\"E\" else 6  for a in dataset.codeqlt]\n",
        "\n",
        "#agemvt\n",
        "ind = np.where(dataset['agemvt'] == '.')\n",
        "for i in ind: \n",
        "    tmp= list(i) \n",
        "for i in tmp: \n",
        "    if i not in inde:\n",
        "        inde.append(i)\n",
        "        \n",
        "#nbpaiecb      \n",
        "ind = np.where(dataset['nbpaiecb'] == '.')\n",
        "for i in ind: \n",
        "    tmp= list(i) \n",
        "for i in tmp: \n",
        "    if i not in inde:\n",
        "        inde.append(i)\n",
        "        \n",
        "\n",
        "#Suppression des ROWs \n",
        "inde.sort()\n",
        "for i in inde:\n",
        "    dataset = dataset.drop(i,axis=0)\n",
        "\n",
        "#Suppression de la colonne dupliquée cartevp & sexe\n",
        "dataset = dataset.drop(['cartevp'],axis=1,errors='ignore')\n",
        "dataset = dataset.drop(['sexe'],axis=1,errors='ignore')\n"
      ],
      "execution_count": null,
      "outputs": []
    },
    {
      "cell_type": "markdown",
      "metadata": {
        "id": "So2uINbXxw6V"
      },
      "source": [
        "#### **Sauvegarde du data dans un nouveau fichier .csv**"
      ]
    },
    {
      "cell_type": "code",
      "metadata": {
        "colab": {
          "base_uri": "https://localhost:8080/",
          "height": 218
        },
        "id": "Gz9mJyyLxw6V",
        "outputId": "717a9545-b984-4976-c8e3-6f9aa5d16e59"
      },
      "source": [
        "dataset.to_csv('CleanDataSet.txt',sep='\\t',index = False)\n",
        "url = 'CleanDataSet.txt'\n",
        "dataset = read_csv(url,sep='\\t')\n",
        "#Verification\n",
        "dataset.head()"
      ],
      "execution_count": null,
      "outputs": [
        {
          "output_type": "execute_result",
          "data": {
            "text/html": [
              "<div>\n",
              "<style scoped>\n",
              "    .dataframe tbody tr th:only-of-type {\n",
              "        vertical-align: middle;\n",
              "    }\n",
              "\n",
              "    .dataframe tbody tr th {\n",
              "        vertical-align: top;\n",
              "    }\n",
              "\n",
              "    .dataframe thead th {\n",
              "        text-align: right;\n",
              "    }\n",
              "</style>\n",
              "<table border=\"1\" class=\"dataframe\">\n",
              "  <thead>\n",
              "    <tr style=\"text-align: right;\">\n",
              "      <th></th>\n",
              "      <th>matricul</th>\n",
              "      <th>departem</th>\n",
              "      <th>ptvente</th>\n",
              "      <th>age</th>\n",
              "      <th>sitfamil</th>\n",
              "      <th>anciente</th>\n",
              "      <th>csp</th>\n",
              "      <th>codeqlt</th>\n",
              "      <th>nbimpaye</th>\n",
              "      <th>mtrejet</th>\n",
              "      <th>nbopguic</th>\n",
              "      <th>moycred3</th>\n",
              "      <th>aveparmo</th>\n",
              "      <th>endette</th>\n",
              "      <th>engagemt</th>\n",
              "      <th>engagemc</th>\n",
              "      <th>engagemm</th>\n",
              "      <th>nbcptvue</th>\n",
              "      <th>moysold3</th>\n",
              "      <th>moycredi</th>\n",
              "      <th>agemvt</th>\n",
              "      <th>nbop</th>\n",
              "      <th>mtfactur</th>\n",
              "      <th>engageml</th>\n",
              "      <th>nbvie</th>\n",
              "      <th>mtvie</th>\n",
              "      <th>nbeparmo</th>\n",
              "      <th>mteparmo</th>\n",
              "      <th>nbeparlo</th>\n",
              "      <th>mteparlo</th>\n",
              "      <th>nblivret</th>\n",
              "      <th>mtlivret</th>\n",
              "      <th>nbeparlt</th>\n",
              "      <th>mteparlt</th>\n",
              "      <th>nbeparte</th>\n",
              "      <th>mteparte</th>\n",
              "      <th>nbbon</th>\n",
              "      <th>mtbon</th>\n",
              "      <th>nbpaiecb</th>\n",
              "      <th>nbcb</th>\n",
              "      <th>nbcbptar</th>\n",
              "      <th>avtscpte</th>\n",
              "      <th>aveparfi</th>\n",
              "      <th>sexer</th>\n",
              "      <th>cartevpr</th>\n",
              "      <th>nbjdebit</th>\n",
              "    </tr>\n",
              "  </thead>\n",
              "  <tbody>\n",
              "    <tr>\n",
              "      <th>0</th>\n",
              "      <td>148009</td>\n",
              "      <td>31</td>\n",
              "      <td>1</td>\n",
              "      <td>51</td>\n",
              "      <td>1</td>\n",
              "      <td>238</td>\n",
              "      <td>1</td>\n",
              "      <td>1</td>\n",
              "      <td>0</td>\n",
              "      <td>0</td>\n",
              "      <td>0</td>\n",
              "      <td>115</td>\n",
              "      <td>701939</td>\n",
              "      <td>4</td>\n",
              "      <td>119216</td>\n",
              "      <td>0</td>\n",
              "      <td>119216</td>\n",
              "      <td>2</td>\n",
              "      <td>35938</td>\n",
              "      <td>114</td>\n",
              "      <td>11</td>\n",
              "      <td>49</td>\n",
              "      <td>206016</td>\n",
              "      <td>0</td>\n",
              "      <td>1</td>\n",
              "      <td>152530</td>\n",
              "      <td>4</td>\n",
              "      <td>701939</td>\n",
              "      <td>2</td>\n",
              "      <td>520145</td>\n",
              "      <td>2</td>\n",
              "      <td>181794</td>\n",
              "      <td>0</td>\n",
              "      <td>0</td>\n",
              "      <td>0</td>\n",
              "      <td>0</td>\n",
              "      <td>0</td>\n",
              "      <td>0</td>\n",
              "      <td>14</td>\n",
              "      <td>2</td>\n",
              "      <td>0</td>\n",
              "      <td>1303700</td>\n",
              "      <td>556967</td>\n",
              "      <td>0</td>\n",
              "      <td>1</td>\n",
              "      <td>1</td>\n",
              "    </tr>\n",
              "    <tr>\n",
              "      <th>1</th>\n",
              "      <td>442153</td>\n",
              "      <td>82</td>\n",
              "      <td>6</td>\n",
              "      <td>52</td>\n",
              "      <td>1</td>\n",
              "      <td>270</td>\n",
              "      <td>1</td>\n",
              "      <td>1</td>\n",
              "      <td>0</td>\n",
              "      <td>0</td>\n",
              "      <td>4</td>\n",
              "      <td>19579</td>\n",
              "      <td>8920</td>\n",
              "      <td>0</td>\n",
              "      <td>0</td>\n",
              "      <td>0</td>\n",
              "      <td>0</td>\n",
              "      <td>1</td>\n",
              "      <td>132468</td>\n",
              "      <td>4079</td>\n",
              "      <td>11</td>\n",
              "      <td>50</td>\n",
              "      <td>98500</td>\n",
              "      <td>0</td>\n",
              "      <td>0</td>\n",
              "      <td>0</td>\n",
              "      <td>3</td>\n",
              "      <td>19508920</td>\n",
              "      <td>2</td>\n",
              "      <td>8920</td>\n",
              "      <td>0</td>\n",
              "      <td>0</td>\n",
              "      <td>0</td>\n",
              "      <td>0</td>\n",
              "      <td>0</td>\n",
              "      <td>0</td>\n",
              "      <td>1</td>\n",
              "      <td>19500000</td>\n",
              "      <td>5</td>\n",
              "      <td>2</td>\n",
              "      <td>0</td>\n",
              "      <td>19856243</td>\n",
              "      <td>133896</td>\n",
              "      <td>0</td>\n",
              "      <td>1</td>\n",
              "      <td>0</td>\n",
              "    </tr>\n",
              "    <tr>\n",
              "      <th>2</th>\n",
              "      <td>552427</td>\n",
              "      <td>97</td>\n",
              "      <td>1</td>\n",
              "      <td>58</td>\n",
              "      <td>1</td>\n",
              "      <td>139</td>\n",
              "      <td>1</td>\n",
              "      <td>3</td>\n",
              "      <td>0</td>\n",
              "      <td>0</td>\n",
              "      <td>0</td>\n",
              "      <td>40</td>\n",
              "      <td>3402</td>\n",
              "      <td>0</td>\n",
              "      <td>0</td>\n",
              "      <td>0</td>\n",
              "      <td>0</td>\n",
              "      <td>1</td>\n",
              "      <td>1336</td>\n",
              "      <td>40</td>\n",
              "      <td>14</td>\n",
              "      <td>2</td>\n",
              "      <td>3394</td>\n",
              "      <td>0</td>\n",
              "      <td>0</td>\n",
              "      <td>0</td>\n",
              "      <td>1</td>\n",
              "      <td>3402</td>\n",
              "      <td>0</td>\n",
              "      <td>0</td>\n",
              "      <td>1</td>\n",
              "      <td>3402</td>\n",
              "      <td>0</td>\n",
              "      <td>0</td>\n",
              "      <td>0</td>\n",
              "      <td>0</td>\n",
              "      <td>0</td>\n",
              "      <td>0</td>\n",
              "      <td>0</td>\n",
              "      <td>1</td>\n",
              "      <td>0</td>\n",
              "      <td>122745</td>\n",
              "      <td>0</td>\n",
              "      <td>0</td>\n",
              "      <td>1</td>\n",
              "      <td>0</td>\n",
              "    </tr>\n",
              "    <tr>\n",
              "      <th>3</th>\n",
              "      <td>556005</td>\n",
              "      <td>40</td>\n",
              "      <td>1</td>\n",
              "      <td>27</td>\n",
              "      <td>2</td>\n",
              "      <td>99</td>\n",
              "      <td>3</td>\n",
              "      <td>2</td>\n",
              "      <td>0</td>\n",
              "      <td>0</td>\n",
              "      <td>0</td>\n",
              "      <td>17</td>\n",
              "      <td>76321</td>\n",
              "      <td>0</td>\n",
              "      <td>0</td>\n",
              "      <td>0</td>\n",
              "      <td>0</td>\n",
              "      <td>1</td>\n",
              "      <td>12221</td>\n",
              "      <td>17</td>\n",
              "      <td>11</td>\n",
              "      <td>23</td>\n",
              "      <td>0</td>\n",
              "      <td>0</td>\n",
              "      <td>0</td>\n",
              "      <td>0</td>\n",
              "      <td>3</td>\n",
              "      <td>76321</td>\n",
              "      <td>1</td>\n",
              "      <td>46312</td>\n",
              "      <td>2</td>\n",
              "      <td>30009</td>\n",
              "      <td>0</td>\n",
              "      <td>0</td>\n",
              "      <td>0</td>\n",
              "      <td>0</td>\n",
              "      <td>0</td>\n",
              "      <td>0</td>\n",
              "      <td>14</td>\n",
              "      <td>2</td>\n",
              "      <td>0</td>\n",
              "      <td>83224</td>\n",
              "      <td>0</td>\n",
              "      <td>0</td>\n",
              "      <td>1</td>\n",
              "      <td>0</td>\n",
              "    </tr>\n",
              "    <tr>\n",
              "      <th>4</th>\n",
              "      <td>556686</td>\n",
              "      <td>65</td>\n",
              "      <td>1</td>\n",
              "      <td>49</td>\n",
              "      <td>5</td>\n",
              "      <td>89</td>\n",
              "      <td>2</td>\n",
              "      <td>1</td>\n",
              "      <td>0</td>\n",
              "      <td>0</td>\n",
              "      <td>0</td>\n",
              "      <td>374</td>\n",
              "      <td>473350</td>\n",
              "      <td>0</td>\n",
              "      <td>209062</td>\n",
              "      <td>37859</td>\n",
              "      <td>171203</td>\n",
              "      <td>1</td>\n",
              "      <td>21187</td>\n",
              "      <td>208</td>\n",
              "      <td>11</td>\n",
              "      <td>49</td>\n",
              "      <td>0</td>\n",
              "      <td>0</td>\n",
              "      <td>1</td>\n",
              "      <td>21423</td>\n",
              "      <td>5</td>\n",
              "      <td>473350</td>\n",
              "      <td>3</td>\n",
              "      <td>399999</td>\n",
              "      <td>2</td>\n",
              "      <td>73351</td>\n",
              "      <td>0</td>\n",
              "      <td>0</td>\n",
              "      <td>0</td>\n",
              "      <td>0</td>\n",
              "      <td>0</td>\n",
              "      <td>0</td>\n",
              "      <td>11</td>\n",
              "      <td>3</td>\n",
              "      <td>1</td>\n",
              "      <td>494773</td>\n",
              "      <td>21423</td>\n",
              "      <td>0</td>\n",
              "      <td>1</td>\n",
              "      <td>15</td>\n",
              "    </tr>\n",
              "  </tbody>\n",
              "</table>\n",
              "</div>"
            ],
            "text/plain": [
              "   matricul  departem  ptvente  age  ...  aveparfi  sexer  cartevpr  nbjdebit\n",
              "0    148009        31        1   51  ...    556967      0         1         1\n",
              "1    442153        82        6   52  ...    133896      0         1         0\n",
              "2    552427        97        1   58  ...         0      0         1         0\n",
              "3    556005        40        1   27  ...         0      0         1         0\n",
              "4    556686        65        1   49  ...     21423      0         1        15\n",
              "\n",
              "[5 rows x 46 columns]"
            ]
          },
          "metadata": {
            "tags": []
          },
          "execution_count": 40
        }
      ]
    },
    {
      "cell_type": "code",
      "metadata": {
        "colab": {
          "base_uri": "https://localhost:8080/"
        },
        "id": "bOq8cib_z7Cs",
        "outputId": "9eef612a-5f2b-4ac3-8c12-586ead6ddccb"
      },
      "source": [
        "dataset.info()"
      ],
      "execution_count": null,
      "outputs": [
        {
          "output_type": "stream",
          "text": [
            "<class 'pandas.core.frame.DataFrame'>\n",
            "RangeIndex: 722 entries, 0 to 721\n",
            "Data columns (total 46 columns):\n",
            " #   Column    Non-Null Count  Dtype\n",
            "---  ------    --------------  -----\n",
            " 0   matricul  722 non-null    int64\n",
            " 1   departem  722 non-null    int64\n",
            " 2   ptvente   722 non-null    int64\n",
            " 3   age       722 non-null    int64\n",
            " 4   sitfamil  722 non-null    int64\n",
            " 5   anciente  722 non-null    int64\n",
            " 6   csp       722 non-null    int64\n",
            " 7   codeqlt   722 non-null    int64\n",
            " 8   nbimpaye  722 non-null    int64\n",
            " 9   mtrejet   722 non-null    int64\n",
            " 10  nbopguic  722 non-null    int64\n",
            " 11  moycred3  722 non-null    int64\n",
            " 12  aveparmo  722 non-null    int64\n",
            " 13  endette   722 non-null    int64\n",
            " 14  engagemt  722 non-null    int64\n",
            " 15  engagemc  722 non-null    int64\n",
            " 16  engagemm  722 non-null    int64\n",
            " 17  nbcptvue  722 non-null    int64\n",
            " 18  moysold3  722 non-null    int64\n",
            " 19  moycredi  722 non-null    int64\n",
            " 20  agemvt    722 non-null    int64\n",
            " 21  nbop      722 non-null    int64\n",
            " 22  mtfactur  722 non-null    int64\n",
            " 23  engageml  722 non-null    int64\n",
            " 24  nbvie     722 non-null    int64\n",
            " 25  mtvie     722 non-null    int64\n",
            " 26  nbeparmo  722 non-null    int64\n",
            " 27  mteparmo  722 non-null    int64\n",
            " 28  nbeparlo  722 non-null    int64\n",
            " 29  mteparlo  722 non-null    int64\n",
            " 30  nblivret  722 non-null    int64\n",
            " 31  mtlivret  722 non-null    int64\n",
            " 32  nbeparlt  722 non-null    int64\n",
            " 33  mteparlt  722 non-null    int64\n",
            " 34  nbeparte  722 non-null    int64\n",
            " 35  mteparte  722 non-null    int64\n",
            " 36  nbbon     722 non-null    int64\n",
            " 37  mtbon     722 non-null    int64\n",
            " 38  nbpaiecb  722 non-null    int64\n",
            " 39  nbcb      722 non-null    int64\n",
            " 40  nbcbptar  722 non-null    int64\n",
            " 41  avtscpte  722 non-null    int64\n",
            " 42  aveparfi  722 non-null    int64\n",
            " 43  sexer     722 non-null    int64\n",
            " 44  cartevpr  722 non-null    int64\n",
            " 45  nbjdebit  722 non-null    int64\n",
            "dtypes: int64(46)\n",
            "memory usage: 259.6 KB\n"
          ],
          "name": "stdout"
        }
      ]
    },
    {
      "cell_type": "code",
      "metadata": {
        "colab": {
          "base_uri": "https://localhost:8080/"
        },
        "id": "qO1YSwQlxw6W",
        "outputId": "87322abd-621f-4906-83b6-5986409daae7"
      },
      "source": [
        "### Prepare Data\n",
        "from sklearn.linear_model import LinearRegression\n",
        "import numpy as np\n",
        "# Split-out validation dataset\n",
        "array = dataset.values\n",
        "Y = array[:,45]\n",
        "dataset1 = dataset.drop(['cartevpr'],axis=1,errors='ignore')\n",
        "array = dataset1.values\n",
        "\n",
        "print(\"------------------------ dataset nettoyé ------------------------\")\n",
        "dataset.info()\n",
        "print(\"-----------------------------------------------------------------\")\n",
        "X = array[:,:].astype(float)\n",
        "reg = LinearRegression().fit(X,Y)\n",
        "reg.score(X,Y)\n",
        "print(\"#------------------  les Coefs de regression  ----------------------\")\n",
        "print(reg.coef_)\n",
        "#---------    les 10 premieres variables  ---------------\n",
        "li = []\n",
        "for i in reg.coef_:\n",
        "    li.append(abs(i))\n",
        "index = []\n",
        "for i in range(0,46):\n",
        "    index.append(i)\n",
        "resultat = [[note, nom] for note, nom in zip(li, index)]\n",
        "li.sort()\n",
        "li =li[0:10]\n",
        "#--------  les variables à supprimer  -------------------\n",
        "ind=[]\n",
        "for i in li:\n",
        "    for j in resultat:\n",
        "        if i == j[0]:\n",
        "            ind.append(j[1])\n",
        "sup = []\n",
        "for i in range(0,45):\n",
        "    if i not in ind:\n",
        "        sup.append(i)\n",
        "print(\"#------------------  les variables à supprimer  ----------------------\")\n",
        "print(sup)\n",
        "print(\"#------------------  les variables à garder     ----------------------\")\n",
        "print(ind)\n",
        "X_new = np.delete(X,sup,1)\n",
        "X_new.shape[1]\n",
        "X =X_new\n",
        "#-------------------------------------------------------------------------------------------\n",
        "validation_size = 0.2\n",
        "seed = 7\n",
        "X_train, X_validation, Y_train, Y_validation = train_test_split(X, Y, test_size=validation_size, random_state=seed)\n",
        "\n"
      ],
      "execution_count": null,
      "outputs": [
        {
          "output_type": "stream",
          "text": [
            "------------------------ dataset nettoyé ------------------------\n",
            "<class 'pandas.core.frame.DataFrame'>\n",
            "RangeIndex: 722 entries, 0 to 721\n",
            "Data columns (total 46 columns):\n",
            " #   Column    Non-Null Count  Dtype\n",
            "---  ------    --------------  -----\n",
            " 0   matricul  722 non-null    int64\n",
            " 1   departem  722 non-null    int64\n",
            " 2   ptvente   722 non-null    int64\n",
            " 3   age       722 non-null    int64\n",
            " 4   sitfamil  722 non-null    int64\n",
            " 5   anciente  722 non-null    int64\n",
            " 6   csp       722 non-null    int64\n",
            " 7   codeqlt   722 non-null    int64\n",
            " 8   nbimpaye  722 non-null    int64\n",
            " 9   mtrejet   722 non-null    int64\n",
            " 10  nbopguic  722 non-null    int64\n",
            " 11  moycred3  722 non-null    int64\n",
            " 12  aveparmo  722 non-null    int64\n",
            " 13  endette   722 non-null    int64\n",
            " 14  engagemt  722 non-null    int64\n",
            " 15  engagemc  722 non-null    int64\n",
            " 16  engagemm  722 non-null    int64\n",
            " 17  nbcptvue  722 non-null    int64\n",
            " 18  moysold3  722 non-null    int64\n",
            " 19  moycredi  722 non-null    int64\n",
            " 20  agemvt    722 non-null    int64\n",
            " 21  nbop      722 non-null    int64\n",
            " 22  mtfactur  722 non-null    int64\n",
            " 23  engageml  722 non-null    int64\n",
            " 24  nbvie     722 non-null    int64\n",
            " 25  mtvie     722 non-null    int64\n",
            " 26  nbeparmo  722 non-null    int64\n",
            " 27  mteparmo  722 non-null    int64\n",
            " 28  nbeparlo  722 non-null    int64\n",
            " 29  mteparlo  722 non-null    int64\n",
            " 30  nblivret  722 non-null    int64\n",
            " 31  mtlivret  722 non-null    int64\n",
            " 32  nbeparlt  722 non-null    int64\n",
            " 33  mteparlt  722 non-null    int64\n",
            " 34  nbeparte  722 non-null    int64\n",
            " 35  mteparte  722 non-null    int64\n",
            " 36  nbbon     722 non-null    int64\n",
            " 37  mtbon     722 non-null    int64\n",
            " 38  nbpaiecb  722 non-null    int64\n",
            " 39  nbcb      722 non-null    int64\n",
            " 40  nbcbptar  722 non-null    int64\n",
            " 41  avtscpte  722 non-null    int64\n",
            " 42  aveparfi  722 non-null    int64\n",
            " 43  sexer     722 non-null    int64\n",
            " 44  cartevpr  722 non-null    int64\n",
            " 45  nbjdebit  722 non-null    int64\n",
            "dtypes: int64(46)\n",
            "memory usage: 259.6 KB\n",
            "-----------------------------------------------------------------\n",
            "#------------------  les Coefs de regression  ----------------------\n",
            "[-1.11499017e-19  7.06874654e-14  5.29458128e-14 -5.76616146e-14\n",
            " -4.29096535e-14  2.22514663e-16 -7.32652723e-14  2.37767202e-13\n",
            " -4.43024659e-13  1.73405851e-13 -1.54701567e-13  2.21708301e-14\n",
            " -3.30982961e-12  1.15106287e-13 -4.82703039e-13  4.82689280e-13\n",
            "  4.82696404e-13 -2.88844015e-14  3.99180847e-17 -3.91282911e-14\n",
            " -1.37028518e-15  9.33570127e-14 -2.59494882e-18  4.82700370e-13\n",
            " -5.53060208e-14 -4.63607177e-18 -1.43296455e-13  1.49497043e-12\n",
            " -7.02452035e-14  1.81486659e-12 -6.80717365e-14  1.81487334e-12\n",
            " -1.42863800e-14  1.81485323e-12  9.39748878e-15 -1.49495942e-12\n",
            "  2.00737288e-20 -1.49498087e-12 -2.82134544e-13 -3.55148610e-14\n",
            " -6.12087351e-14 -4.06019949e-18  7.31232955e-18 -1.97195387e-14\n",
            "  1.00000000e+00]\n",
            "#------------------  les variables à supprimer  ----------------------\n",
            "[1, 2, 3, 4, 6, 7, 8, 9, 10, 11, 12, 13, 14, 15, 16, 17, 19, 21, 23, 24, 26, 27, 28, 29, 30, 31, 32, 33, 35, 37, 38, 39, 40, 43, 44]\n",
            "#------------------  les variables à garder     ----------------------\n",
            "[36, 0, 22, 41, 25, 42, 18, 5, 20, 34]\n"
          ],
          "name": "stdout"
        }
      ]
    },
    {
      "cell_type": "code",
      "metadata": {
        "id": "KgM8Ahsfxw6W"
      },
      "source": [
        "# Evaluate Algorithms\n",
        "from sklearn.metrics import make_scorer\n",
        "from sklearn.metrics import *\n",
        "# Test options and evaluation metric\n",
        "num_folds = 10\n",
        "seed = 7\n",
        "scoring =['accuracy',make_scorer(f1_score, average='weighted')]"
      ],
      "execution_count": null,
      "outputs": []
    },
    {
      "cell_type": "code",
      "metadata": {
        "colab": {
          "base_uri": "https://localhost:8080/"
        },
        "id": "kualTDpxxw6W",
        "outputId": "e706c862-a02e-4722-e4de-442f3f4a3a07"
      },
      "source": [
        "# Spot Check Algorithms\n",
        "models = []\n",
        "models.append(('LR', LogisticRegression(max_iter = 1000)))\n",
        "models.append(('LDA', LinearDiscriminantAnalysis()))\n",
        "models.append(('KNN', KNeighborsClassifier()))\n",
        "models.append(('CART', DecisionTreeClassifier()))\n",
        "models.append(('NB', GaussianNB()))\n",
        "models.append(('SVM', SVC()))\n",
        "models.append(('GBC', GradientBoostingClassifier()))\n",
        "models.append(('ABC',AdaBoostClassifier()))\n",
        "models.append(('ETC',ExtraTreesClassifier()))\n",
        "models.append(('RFC',RandomForestClassifier()))\n",
        "results = []\n",
        "names = []\n",
        "for i in scoring :\n",
        "    print(\"----------------------------------------\")\n",
        "    print(\"this is \",i,\" scoring\")\n",
        "    print(\"----------------------------------------\")\n",
        "    for name, model in models:\n",
        "        kfold = KFold(n_splits=num_folds, random_state=seed ,shuffle=True)\n",
        "        cv_results = cross_val_score(model, X_train, Y_train, cv=kfold, scoring=i)\n",
        "        results.append(cv_results)\n",
        "        names.append(name)\n",
        "        msg = \"%s: %f (%f)\" % (name, cv_results.mean(), cv_results.std())\n",
        "        print(msg)"
      ],
      "execution_count": null,
      "outputs": [
        {
          "output_type": "stream",
          "text": [
            "----------------------------------------\n",
            "this is  accuracy  scoring\n",
            "----------------------------------------\n",
            "LR: 0.467907 (0.048388)\n",
            "LDA: 0.436661 (0.047266)\n",
            "KNN: 0.445221 (0.060066)\n",
            "CART: 0.273563 (0.073144)\n",
            "NB: 0.039958 (0.020807)\n",
            "SVM: 0.479915 (0.053276)\n",
            "GBC: 0.389897 (0.057162)\n",
            "ABC: 0.481639 (0.053618)\n",
            "ETC: 0.455717 (0.053897)\n",
            "RFC: 0.476437 (0.051605)\n",
            "----------------------------------------\n",
            "this is  make_scorer(f1_score, average=weighted)  scoring\n",
            "----------------------------------------\n",
            "LR: 0.334332 (0.058589)\n",
            "LDA: 0.308648 (0.055301)\n",
            "KNN: 0.304594 (0.058078)\n",
            "CART: 0.281821 (0.047559)\n",
            "NB: 0.057382 (0.037199)\n",
            "SVM: 0.313003 (0.058159)\n",
            "GBC: 0.329434 (0.060275)\n",
            "ABC: 0.340035 (0.062460)\n",
            "ETC: 0.323538 (0.056999)\n",
            "RFC: 0.348349 (0.057834)\n"
          ],
          "name": "stdout"
        }
      ]
    },
    {
      "cell_type": "code",
      "metadata": {
        "colab": {
          "base_uri": "https://localhost:8080/",
          "height": 297
        },
        "id": "r5OpDiyjxw6X",
        "outputId": "736ad60f-c875-468c-a292-5d1cf1baa224"
      },
      "source": [
        "# Compare Algorithms\n",
        "fig = pyplot.figure()\n",
        "fig.suptitle('Algorithm Comparison')\n",
        "ax = fig.add_subplot(111)\n",
        "pyplot.boxplot(results)\n",
        "ax.set_xticklabels(names)\n",
        "pyplot.show()"
      ],
      "execution_count": null,
      "outputs": [
        {
          "output_type": "display_data",
          "data": {
            "image/png": "[encoded data removed]",
            "text/plain": [
              "<Figure size 432x288 with 1 Axes>"
            ]
          },
          "metadata": {
            "tags": []
          }
        }
      ]
    },
    {
      "cell_type": "markdown",
      "metadata": {
        "id": "BhGzqDZaxw6X"
      },
      "source": [
        "#### Interprétation :\n",
        " - après avoir nettoyer nos données et réduire le nombre de variables, on a pu construire des modèles qui ont données des scores considérables (0.6 en moyenne).\n",
        " - en jettant un oeil sur nos données on a constaté que les données ne sont pas sur la meme échelle(par exemple age et ancienté) ce qui justifie la faible performance de certains modèles"
      ]
    },
    {
      "cell_type": "code",
      "metadata": {
        "colab": {
          "base_uri": "https://localhost:8080/"
        },
        "id": "lIUVREWOaaXo",
        "outputId": "7c69f586-2bbe-4dcf-d0b9-04323eeb10d6"
      },
      "source": [
        "# Standardize the dataset\n",
        "pipelines = []\n",
        "pipelines.append(('ScaledLR', Pipeline([('Scaler', StandardScaler()),('LR', LogisticRegression())])))\n",
        "pipelines.append(('ScaledLDA', Pipeline([('Scaler', StandardScaler()),('LDA', LinearDiscriminantAnalysis())])))\n",
        "pipelines.append(('ScaledKNN', Pipeline([('Scaler', StandardScaler()),('KNN', KNeighborsClassifier())])))\n",
        "pipelines.append(('ScaledCART', Pipeline([('Scaler', StandardScaler()),('CART', DecisionTreeClassifier())])))\n",
        "pipelines.append(('ScaledNB', Pipeline([('Scaler', StandardScaler()),('NB', GaussianNB())])))\n",
        "pipelines.append(('ScaledGBC', Pipeline([('Scaler', StandardScaler()),('GBC', GradientBoostingClassifier())]))) \n",
        "pipelines.append(('ScaledABC',Pipeline([('Scaler', StandardScaler()),('GBC', AdaBoostClassifier())])))    \n",
        "pipelines.append(('ScaledETC',Pipeline([('Scaler', StandardScaler()),('ETC',ExtraTreesClassifier() )])))    \n",
        "pipelines.append(('ScaledRFC',Pipeline([('Scaler', StandardScaler()),('RFC',  RandomForestClassifier())])))   \n",
        "\n",
        "results = []\n",
        "names = []\n",
        "for name, model in pipelines:\n",
        "\tkfold = KFold(n_splits=num_folds, random_state=seed)\n",
        "\tcv_results = cross_val_score(model, X_train, Y_train, cv=kfold, scoring='accuracy')\n",
        "\tresults.append(cv_results)\n",
        "\tnames.append(name)\n",
        "\tmsg = \"%s: %f (%f)\" % (name, cv_results.mean(), cv_results.std())\n",
        "\tprint(msg)\n",
        "\n"
      ],
      "execution_count": null,
      "outputs": [
        {
          "output_type": "stream",
          "text": [
            "ScaledLR: 0.469601 (0.048666)\n",
            "ScaledLDA: 0.434906 (0.052716)\n",
            "ScaledKNN: 0.452269 (0.048077)\n",
            "ScaledCART: 0.263309 (0.049142)\n",
            "ScaledNB: 0.015578 (0.012165)\n",
            "ScaledGBC: 0.384483 (0.052841)\n",
            "ScaledABC: 0.481730 (0.053149)\n",
            "ScaledETC: 0.466152 (0.053161)\n",
            "ScaledRFC: 0.471325 (0.050632)\n"
          ],
          "name": "stdout"
        }
      ]
    },
    {
      "cell_type": "markdown",
      "metadata": {
        "id": "p6DzHzD8x3GF"
      },
      "source": [
        "## **III- Cora**"
      ]
    },
    {
      "cell_type": "markdown",
      "metadata": {
        "id": "fm-wsBRkx3Gv"
      },
      "source": [
        "### **1. Analyse Exploratoire**"
      ]
    },
    {
      "cell_type": "code",
      "metadata": {
        "id": "eiWitnTSx3Gx"
      },
      "source": [
        "import scipy.io\n",
        "mat = scipy.io.loadmat('cora.mat')\n",
        "X = mat['fea']\n",
        "Y = mat['gnd']\n"
      ],
      "execution_count": null,
      "outputs": []
    },
    {
      "cell_type": "code",
      "metadata": {
        "colab": {
          "base_uri": "https://localhost:8080/"
        },
        "id": "y62nhOe60ZZE",
        "outputId": "ef6423b2-65be-4067-d565-7240e570852b"
      },
      "source": [
        "X"
      ],
      "execution_count": null,
      "outputs": [
        {
          "output_type": "execute_result",
          "data": {
            "text/plain": [
              "array([[0, 0, 0, ..., 0, 0, 0],\n",
              "       [0, 0, 0, ..., 0, 0, 0],\n",
              "       [0, 0, 0, ..., 0, 0, 0],\n",
              "       ...,\n",
              "       [0, 0, 0, ..., 0, 0, 0],\n",
              "       [0, 0, 0, ..., 0, 0, 0],\n",
              "       [0, 0, 0, ..., 0, 0, 0]], dtype=uint8)"
            ]
          },
          "metadata": {
            "tags": []
          },
          "execution_count": 15
        }
      ]
    },
    {
      "cell_type": "code",
      "metadata": {
        "colab": {
          "base_uri": "https://localhost:8080/"
        },
        "id": "Qd1icjoi0bVy",
        "outputId": "9402e2e5-5355-41ab-d2dd-d7faab613503"
      },
      "source": [
        "Y"
      ],
      "execution_count": null,
      "outputs": [
        {
          "output_type": "execute_result",
          "data": {
            "text/plain": [
              "array([[4],\n",
              "       [5],\n",
              "       [5],\n",
              "       ...,\n",
              "       [4],\n",
              "       [4],\n",
              "       [4]], dtype=uint8)"
            ]
          },
          "metadata": {
            "tags": []
          },
          "execution_count": 16
        }
      ]
    },
    {
      "cell_type": "code",
      "metadata": {
        "id": "i2Mff_DCx3HA"
      },
      "source": [
        "\n",
        "from sklearn.linear_model import LinearRegression\n",
        "import numpy as np\n",
        "# Split-out validation dataset\n",
        "\n",
        "#-------------------------------------------------------------------------------------------\n",
        "validation_size = 0.2\n",
        "seed = 7\n",
        "X_train, X_validation, Y_train, Y_validation = train_test_split(X, Y, test_size=validation_size, random_state=seed)\n",
        "\n"
      ],
      "execution_count": null,
      "outputs": []
    },
    {
      "cell_type": "code",
      "metadata": {
        "id": "GI82ZwQtx3HC"
      },
      "source": [
        "# Evaluate Algorithms\n",
        "from sklearn.metrics import make_scorer\n",
        "from sklearn.metrics import *\n",
        "# Test options and evaluation metric\n",
        "num_folds = 10\n",
        "seed = 7\n",
        "scoring =['accuracy',make_scorer(f1_score, average='weighted')]"
      ],
      "execution_count": null,
      "outputs": []
    },
    {
      "cell_type": "code",
      "metadata": {
        "colab": {
          "base_uri": "https://localhost:8080/"
        },
        "id": "2yugLed6x3HD",
        "outputId": "8795bf0d-ce20-431d-9f2b-c71ec7daee5e"
      },
      "source": [
        "# Spot Check Algorithms\n",
        "models = []\n",
        "models.append(('LR', LogisticRegression(max_iter = 1000)))\n",
        "models.append(('LDA', LinearDiscriminantAnalysis()))\n",
        "models.append(('KNN', KNeighborsClassifier()))\n",
        "models.append(('CART', DecisionTreeClassifier()))\n",
        "models.append(('NB', GaussianNB()))\n",
        "models.append(('SVM', SVC()))\n",
        "models.append(('GBC', GradientBoostingClassifier()))\n",
        "models.append(('ABC',AdaBoostClassifier()))\n",
        "models.append(('ETC',ExtraTreesClassifier()))\n",
        "models.append(('RFC',RandomForestClassifier()))\n",
        "results = []\n",
        "names = []\n",
        "for i in scoring :\n",
        "    print(\"----------------------------------------\")\n",
        "    print(\"this is \",i,\" scoring\")\n",
        "    print(\"----------------------------------------\")\n",
        "    for name, model in models:\n",
        "        kfold = KFold(n_splits=num_folds, random_state=seed ,shuffle=True)\n",
        "        cv_results = cross_val_score(model, X_train, Y_train, cv=kfold, scoring=i)\n",
        "        results.append(cv_results)\n",
        "        names.append(name)\n",
        "        msg = \"%s: %f (%f)\" % (name, cv_results.mean(), cv_results.std())\n",
        "        print(msg)"
      ],
      "execution_count": null,
      "outputs": [
        {
          "output_type": "stream",
          "text": [
            "----------------------------------------\n",
            "this is  accuracy  scoring\n",
            "----------------------------------------\n",
            "LR: 0.762238 (0.026590)\n",
            "LDA: 0.530026 (0.020327)\n",
            "KNN: 0.445055 (0.032130)\n",
            "CART: 0.638057 (0.033759)\n",
            "NB: 0.505961 (0.028948)\n",
            "SVM: 0.733137 (0.022788)\n",
            "GBC: 0.740553 (0.019632)\n",
            "ABC: 0.528151 (0.041722)\n",
            "ETC: 0.759012 (0.025591)\n",
            "RFC: 0.756245 (0.019511)\n",
            "----------------------------------------\n",
            "this is  make_scorer(f1_score, average=weighted)  scoring\n",
            "----------------------------------------\n",
            "LR: 0.759634 (0.027166)\n",
            "LDA: 0.531570 (0.019839)\n",
            "KNN: 0.421155 (0.032405)\n",
            "CART: 0.647444 (0.033316)\n",
            "NB: 0.504398 (0.029040)\n",
            "SVM: 0.730248 (0.023782)\n",
            "GBC: 0.737548 (0.020320)\n",
            "ABC: 0.533430 (0.040208)\n",
            "ETC: 0.755485 (0.025437)\n",
            "RFC: 0.748437 (0.016885)\n"
          ],
          "name": "stdout"
        }
      ]
    },
    {
      "cell_type": "code",
      "metadata": {
        "colab": {
          "base_uri": "https://localhost:8080/",
          "height": 297
        },
        "id": "d3AWKiBpx3HF",
        "outputId": "15ce825a-ba3f-417a-e3af-2ad770b3b149"
      },
      "source": [
        "# Compare Algorithms\n",
        "fig = pyplot.figure()\n",
        "fig.suptitle('Algorithm Comparison')\n",
        "ax = fig.add_subplot(111)\n",
        "pyplot.boxplot(results)\n",
        "ax.set_xticklabels(names)\n",
        "pyplot.show()"
      ],
      "execution_count": null,
      "outputs": [
        {
          "output_type": "display_data",
          "data": {
            "image/png": "[encoded data removed]",
            "text/plain": [
              "<Figure size 432x288 with 1 Axes>"
            ]
          },
          "metadata": {
            "tags": []
          }
        }
      ]
    },
    {
      "cell_type": "markdown",
      "metadata": {
        "id": "TLO4uTAJKzD1"
      },
      "source": [
        "## **IV- CitSeer**"
      ]
    },
    {
      "cell_type": "markdown",
      "metadata": {
        "id": "NwyQUor784qX"
      },
      "source": [
        "### **1. Analyse Exploratoire**"
      ]
    },
    {
      "cell_type": "code",
      "metadata": {
        "id": "FEs99Af184qY"
      },
      "source": [
        "import scipy.io\n",
        "mat = scipy.io.loadmat('citeseer.mat')\n",
        "X = mat['fea']\n",
        "Y = mat['gnd']\n"
      ],
      "execution_count": null,
      "outputs": []
    },
    {
      "cell_type": "code",
      "metadata": {
        "colab": {
          "base_uri": "https://localhost:8080/"
        },
        "id": "bSEOl5BN84qa",
        "outputId": "5f8c3148-7f24-4263-8a0e-260bca274a4f"
      },
      "source": [
        "X"
      ],
      "execution_count": null,
      "outputs": [
        {
          "output_type": "execute_result",
          "data": {
            "text/plain": [
              "array([[0, 0, 0, ..., 0, 0, 0],\n",
              "       [0, 0, 0, ..., 0, 0, 0],\n",
              "       [0, 0, 0, ..., 0, 0, 0],\n",
              "       ...,\n",
              "       [0, 0, 0, ..., 0, 0, 0],\n",
              "       [0, 0, 0, ..., 0, 0, 0],\n",
              "       [0, 0, 0, ..., 0, 0, 0]], dtype=uint8)"
            ]
          },
          "metadata": {
            "tags": []
          },
          "execution_count": 23
        }
      ]
    },
    {
      "cell_type": "code",
      "metadata": {
        "colab": {
          "base_uri": "https://localhost:8080/"
        },
        "id": "c3pqHKZ984qd",
        "outputId": "3ab33b2e-ef20-4e50-d846-bd1ff74f2cd0"
      },
      "source": [
        "Y"
      ],
      "execution_count": null,
      "outputs": [
        {
          "output_type": "execute_result",
          "data": {
            "text/plain": [
              "array([[4],\n",
              "       [2],\n",
              "       [6],\n",
              "       ...,\n",
              "       [4],\n",
              "       [2],\n",
              "       [6]], dtype=uint8)"
            ]
          },
          "metadata": {
            "tags": []
          },
          "execution_count": 24
        }
      ]
    },
    {
      "cell_type": "code",
      "metadata": {
        "id": "QAKF53n784qf"
      },
      "source": [
        "\n",
        "from sklearn.linear_model import LinearRegression\n",
        "import numpy as np\n",
        "# Split-out validation dataset\n",
        "\n",
        "#-------------------------------------------------------------------------------------------\n",
        "validation_size = 0.2\n",
        "seed = 7\n",
        "X_train, X_validation, Y_train, Y_validation = train_test_split(X, Y, test_size=validation_size, random_state=seed)\n",
        "\n"
      ],
      "execution_count": null,
      "outputs": []
    },
    {
      "cell_type": "code",
      "metadata": {
        "id": "2i4z_G9D84qg"
      },
      "source": [
        "# Evaluate Algorithms\n",
        "from sklearn.metrics import make_scorer\n",
        "from sklearn.metrics import *\n",
        "# Test options and evaluation metric\n",
        "num_folds = 10\n",
        "seed = 7\n",
        "scoring =['accuracy',make_scorer(f1_score, average='weighted')]"
      ],
      "execution_count": null,
      "outputs": []
    },
    {
      "cell_type": "code",
      "metadata": {
        "colab": {
          "base_uri": "https://localhost:8080/"
        },
        "id": "PewBnPPm84qh",
        "outputId": "9c9d264e-f902-4d11-b937-80991ba0ac37"
      },
      "source": [
        "# Spot Check Algorithms\n",
        "models = []\n",
        "models.append(('LR', LogisticRegression(max_iter = 1000)))\n",
        "models.append(('LDA', LinearDiscriminantAnalysis()))\n",
        "models.append(('KNN', KNeighborsClassifier()))\n",
        "models.append(('CART', DecisionTreeClassifier()))\n",
        "models.append(('NB', GaussianNB()))\n",
        "models.append(('SVM', SVC()))\n",
        "models.append(('GBC', GradientBoostingClassifier()))\n",
        "models.append(('ABC',AdaBoostClassifier()))\n",
        "models.append(('ETC',ExtraTreesClassifier()))\n",
        "models.append(('RFC',RandomForestClassifier()))\n",
        "results = []\n",
        "names = []\n",
        "\n",
        "for name, model in models:\n",
        "  kfold = KFold(n_splits=num_folds, random_state=seed ,shuffle=True)\n",
        "  cv_results = cross_val_score(model, X_train, Y_train, cv=kfold, scoring='accuracy')\n",
        "  results.append(cv_results)\n",
        "  names.append(name)\n",
        "  msg = \"%s: %f (%f)\" % (name, cv_results.mean(), cv_results.std())\n",
        "  print(msg)"
      ],
      "execution_count": null,
      "outputs": [
        {
          "output_type": "stream",
          "text": [
            "LR: 0.706123 (0.021803)\n",
            "LDA: 0.381048 (0.023641)\n",
            "KNN: 0.086434 (0.015132)\n",
            "CART: 0.604665 (0.036577)\n",
            "NB: 0.602418 (0.032073)\n",
            "SVM: 0.723781 (0.027080)\n",
            "GBC: 0.702358 (0.028359)\n",
            "ABC: 0.618176 (0.037035)\n",
            "ETC: 0.727920 (0.024915)\n",
            "RFC: 0.719650 (0.024418)\n"
          ],
          "name": "stdout"
        }
      ]
    },
    {
      "cell_type": "code",
      "metadata": {
        "colab": {
          "base_uri": "https://localhost:8080/",
          "height": 297
        },
        "id": "xNp2ah2S84qj",
        "outputId": "d4282b9d-37bd-46f7-8954-eb6ef386afca"
      },
      "source": [
        "# Compare Algorithms\n",
        "fig = pyplot.figure()\n",
        "fig.suptitle('Algorithm Comparison')\n",
        "ax = fig.add_subplot(111)\n",
        "pyplot.boxplot(results)\n",
        "ax.set_xticklabels(names)\n",
        "pyplot.show()"
      ],
      "execution_count": null,
      "outputs": [
        {
          "output_type": "display_data",
          "data": {
            "image/png": "[encoded data removed]",
            "text/plain": [
              "<Figure size 432x288 with 1 Axes>"
            ]
          },
          "metadata": {
            "tags": []
          }
        }
      ]
    },
    {
      "cell_type": "markdown",
      "metadata": {
        "id": "0Vr7m788K6dy"
      },
      "source": [
        "## **V- Pubmed**"
      ]
    },
    {
      "cell_type": "markdown",
      "metadata": {
        "id": "foKO0XfeK6d0"
      },
      "source": [
        "### **1. Analyse Exploratoire**"
      ]
    },
    {
      "cell_type": "code",
      "metadata": {
        "id": "ld7yoSY8K6d1"
      },
      "source": [
        "import scipy.io\n",
        "mat = scipy.io.loadmat('pubmed.mat')\n",
        "X = mat['fea']\n",
        "Y = mat['gnd']\n"
      ],
      "execution_count": null,
      "outputs": []
    },
    {
      "cell_type": "code",
      "metadata": {
        "colab": {
          "base_uri": "https://localhost:8080/"
        },
        "id": "9-5r3ZD_K6d3",
        "outputId": "677ab901-1214-428e-dd56-c0f35b24b4a6"
      },
      "source": [
        "X"
      ],
      "execution_count": null,
      "outputs": [
        {
          "output_type": "execute_result",
          "data": {
            "text/plain": [
              "array([[0.        , 0.        , 0.        , ..., 0.        , 0.        ,\n",
              "        0.        ],\n",
              "       [0.        , 0.        , 0.        , ..., 0.        , 0.        ,\n",
              "        0.        ],\n",
              "       [0.10463634, 0.        , 0.        , ..., 0.        , 0.        ,\n",
              "        0.        ],\n",
              "       ...,\n",
              "       [0.        , 0.01942665, 0.0079607 , ..., 0.        , 0.        ,\n",
              "        0.        ],\n",
              "       [0.10782092, 0.        , 0.        , ..., 0.        , 0.        ,\n",
              "        0.        ],\n",
              "       [0.        , 0.02658384, 0.        , ..., 0.        , 0.        ,\n",
              "        0.        ]])"
            ]
          },
          "metadata": {
            "tags": []
          },
          "execution_count": 32
        }
      ]
    },
    {
      "cell_type": "code",
      "metadata": {
        "colab": {
          "base_uri": "https://localhost:8080/"
        },
        "id": "7OS666BYK6d6",
        "outputId": "a9127f92-0f29-4da9-c7ad-8c03105b1aff"
      },
      "source": [
        "Y"
      ],
      "execution_count": null,
      "outputs": [
        {
          "output_type": "execute_result",
          "data": {
            "text/plain": [
              "array([[2],\n",
              "       [2],\n",
              "       [1],\n",
              "       ...,\n",
              "       [3],\n",
              "       [1],\n",
              "       [3]], dtype=uint8)"
            ]
          },
          "metadata": {
            "tags": []
          },
          "execution_count": 33
        }
      ]
    },
    {
      "cell_type": "code",
      "metadata": {
        "id": "DsIyr-O2K6d7"
      },
      "source": [
        "\n",
        "from sklearn.linear_model import LinearRegression\n",
        "import numpy as np\n",
        "# Split-out validation dataset\n",
        "\n",
        "#-------------------------------------------------------------------------------------------\n",
        "validation_size = 0.2\n",
        "seed = 7\n",
        "X_train, X_validation, Y_train, Y_validation = train_test_split(X, Y, test_size=validation_size, random_state=seed)\n",
        "\n"
      ],
      "execution_count": null,
      "outputs": []
    },
    {
      "cell_type": "code",
      "metadata": {
        "id": "MvCuByc9K6d9"
      },
      "source": [
        "# Evaluate Algorithms\n",
        "from sklearn.metrics import make_scorer\n",
        "from sklearn.metrics import *\n",
        "# Test options and evaluation metric\n",
        "num_folds = 10\n",
        "seed = 7\n",
        "scoring =['accuracy',make_scorer(f1_score, average='weighted')]"
      ],
      "execution_count": null,
      "outputs": []
    },
    {
      "cell_type": "code",
      "metadata": {
        "colab": {
          "background_save": true,
          "base_uri": "https://localhost:8080/"
        },
        "id": "UeqWCVW9K6d-",
        "outputId": "621af865-e01b-4145-d77f-5d90cd4c472a"
      },
      "source": [
        "# Spot Check Algorithms\n",
        "models = []\n",
        "models.append(('LR', LogisticRegression(max_iter = 1000)))\n",
        "models.append(('LDA', LinearDiscriminantAnalysis()))\n",
        "models.append(('KNN', KNeighborsClassifier()))\n",
        "models.append(('CART', DecisionTreeClassifier()))\n",
        "models.append(('NB', GaussianNB()))\n",
        "models.append(('SVM', SVC()))\n",
        "models.append(('GBC', GradientBoostingClassifier()))\n",
        "models.append(('ABC',AdaBoostClassifier()))\n",
        "models.append(('ETC',ExtraTreesClassifier()))\n",
        "models.append(('RFC',RandomForestClassifier()))\n",
        "results = []\n",
        "names = []\n",
        "\n",
        "for name, model in models:\n",
        "  kfold = KFold(n_splits=num_folds, random_state=seed ,shuffle=True)\n",
        "  cv_results = cross_val_score(model, X_train, Y_train, cv=kfold, scoring='accuracy')\n",
        "  results.append(cv_results)\n",
        "  names.append(name)\n",
        "  msg = \"%s: %f (%f)\" % (name, cv_results.mean(), cv_results.std())\n",
        "  print(msg)"
      ],
      "execution_count": null,
      "outputs": [
        {
          "output_type": "stream",
          "text": [
            "LR: 0.859950 (0.008353)\n",
            "LDA: 0.865023 (0.010900)\n",
            "KNN: 0.770623 (0.013456)\n",
            "CART: 0.824256 (0.009191)\n",
            "NB: 0.753313 (0.016388)\n",
            "SVM: 0.880049 (0.011036)\n",
            "GBC: 0.888671 (0.006646)\n",
            "ABC: 0.830279 (0.010286)\n",
            "ETC: 0.881444 (0.009210)\n",
            "RFC: 0.888481 (0.009305)\n"
          ],
          "name": "stdout"
        }
      ]
    },
    {
      "cell_type": "code",
      "metadata": {
        "colab": {
          "base_uri": "https://localhost:8080/",
          "height": 297
        },
        "id": "VYomcMhMK6eA",
        "outputId": "926374c7-b558-4279-860a-5f9584843d1d"
      },
      "source": [
        "# Compare Algorithms\n",
        "fig = pyplot.figure()\n",
        "fig.suptitle('Algorithm Comparison')\n",
        "ax = fig.add_subplot(111)\n",
        "pyplot.boxplot(results)\n",
        "ax.set_xticklabels(names)\n",
        "pyplot.show()"
      ],
      "execution_count": null,
      "outputs": [
        {
          "output_type": "display_data",
          "data": {
            "image/png": "[encoded data removed]",
            "text/plain": [
              "<Figure size 432x288 with 1 Axes>"
            ]
          },
          "metadata": {
            "tags": []
          }
        }
      ]
    }
  ]
}